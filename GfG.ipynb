{
 "cells": [
  {
   "cell_type": "code",
   "execution_count": 12,
   "id": "ca74152f-b864-454c-92a3-907550b7a84f",
   "metadata": {},
   "outputs": [
    {
     "name": "stdout",
     "output_type": "stream",
     "text": [
      "1\n",
      "3\n",
      "6\n",
      "13\n",
      "12\n",
      "1 3\n",
      "[2, 3, 7]\n"
     ]
    }
   ],
   "source": [
    "#Indexes of Subarray Sum\n",
    "'''\n",
    "Input: arr[] = [1,2,3,7,5], n = 5, s = 12\n",
    "Output: 2 4\n",
    "Explanation: The sum of elements from 2nd to 4th position is 12.\n",
    "'''\n",
    "\n",
    "arr= [1,2,3,7,5]\n",
    "n = 5\n",
    "s=12\n",
    "\n",
    "start=0\n",
    "end=0\n",
    "sum2=0\n",
    "while sum!=s:\n",
    "    sum2=sum(arr[start:end+1])\n",
    "    print(sum2)\n",
    "    if sum2<s:\n",
    "        end+=1\n",
    "    if sum2>s:\n",
    "        start=start+1\n",
    "        sum2=0\n",
    "    if sum2==s:\n",
    "        break\n",
    "print(start, end)\n",
    "print(arr[start:end+1])"
   ]
  },
  {
   "cell_type": "code",
   "execution_count": 15,
   "id": "d6ddae32-74ae-4dc2-9faa-2b33dda75f41",
   "metadata": {},
   "outputs": [],
   "source": [
    "\n",
    "def subArraySum(arr, n, s):\n",
    "    start = 0\n",
    "    curr_sum = 0\n",
    "    \n",
    "    for end in range(n):\n",
    "        # Add the current element to the current sum\n",
    "        curr_sum += arr[end]\n",
    "        \n",
    "        # While the current sum is greater than the target, shrink the window from the left\n",
    "        while curr_sum > s and start <= end:\n",
    "            curr_sum -= arr[start]\n",
    "            start += 1\n",
    "        \n",
    "        # Check if the current sum is equal to the target\n",
    "        if curr_sum == s:\n",
    "            # Return the 1-based index\n",
    "            return (start + 1, end + 1)\n",
    "    \n",
    "    # If no sub-array with the given sum is found\n",
    "    return (-1, -1)\n"
   ]
  },
  {
   "cell_type": "code",
   "execution_count": 16,
   "id": "04a7e476-5956-443d-a3c7-6a206b41190a",
   "metadata": {},
   "outputs": [
    {
     "data": {
      "text/plain": [
       "(2, 4)"
      ]
     },
     "execution_count": 16,
     "metadata": {},
     "output_type": "execute_result"
    }
   ],
   "source": [
    "z=[1,2,3,7,5]\n",
    "subArraySum(z,5,12)"
   ]
  },
  {
   "cell_type": "code",
   "execution_count": 20,
   "id": "7c154f7f-0fd0-413f-b888-cf7565f7f8c0",
   "metadata": {},
   "outputs": [
    {
     "name": "stdout",
     "output_type": "stream",
     "text": [
      "5\n"
     ]
    }
   ],
   "source": [
    "\n",
    "#Missing in Array\n",
    "'''\n",
    "Input: n = 5, arr[] = [1,2,3,5]\n",
    "Output: 4\n",
    "Explanation : All the numbers from 1 to 5 are present except 4.'''\n",
    "\n",
    "#User function Template for python3\n",
    "class Solution:\n",
    "    # Note that the size of the array is n-1\n",
    "    def missingNumber(self, n, arr):\n",
    "        \n",
    "        # code here\n",
    "        prevnum=arr[0]\n",
    "        \n",
    "        for x in range(1,n):\n",
    "            if arr[x]!=prevnum+1:\n",
    "                break\n",
    "            prevnum=arr[x]\n",
    "            \n",
    "        else:\n",
    "            return prevnum+1\n",
    "            \n",
    "        return prevnum+1\n",
    "\n",
    "s = Solution().missingNumber(4, [1,2,3,4,7])\n",
    "print(s)\n"
   ]
  },
  {
   "cell_type": "code",
   "execution_count": 23,
   "id": "540ed2cf-e186-43fd-bd82-a38e4476e614",
   "metadata": {},
   "outputs": [
    {
     "name": "stdout",
     "output_type": "stream",
     "text": [
      "5\n"
     ]
    }
   ],
   "source": [
    "def missingNumber(self, n, arr):\n",
    "    # code here\n",
    "    x=1\n",
    "    ans=0\n",
    "    for i in range(n):\n",
    "        ans=x^arr[i]\n",
    "        \n",
    "    if ans>0:\n",
    "        return ans\n",
    "s = Solution().missingNumber(4, [1,2,3,4,7])\n",
    "print(s)\n"
   ]
  },
  {
   "cell_type": "code",
   "execution_count": 22,
   "id": "ff2cdbb5-7a3e-4c1b-a4ba-5d7a572a63b7",
   "metadata": {},
   "outputs": [
    {
     "data": {
      "text/plain": [
       "[0, 0, 0, 0, 0]"
      ]
     },
     "execution_count": 22,
     "metadata": {},
     "output_type": "execute_result"
    }
   ],
   "source": [
    "hash = [0] * (4 + 1)\n",
    "hash"
   ]
  },
  {
   "cell_type": "code",
   "execution_count": null,
   "id": "1c601610-7c6d-4abc-8066-04070398da21",
   "metadata": {},
   "outputs": [],
   "source": []
  }
 ],
 "metadata": {
  "kernelspec": {
   "display_name": "Python 3 (ipykernel)",
   "language": "python",
   "name": "python3"
  },
  "language_info": {
   "codemirror_mode": {
    "name": "ipython",
    "version": 3
   },
   "file_extension": ".py",
   "mimetype": "text/x-python",
   "name": "python",
   "nbconvert_exporter": "python",
   "pygments_lexer": "ipython3",
   "version": "3.12.5"
  }
 },
 "nbformat": 4,
 "nbformat_minor": 5
}

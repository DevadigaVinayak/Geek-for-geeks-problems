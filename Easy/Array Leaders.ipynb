{
 "cells": [
  {
   "cell_type": "code",
   "execution_count": 3,
   "id": "3d3b9b39-c970-4358-9bd0-c7172e14392d",
   "metadata": {},
   "outputs": [
    {
     "name": "stdout",
     "output_type": "stream",
     "text": [
      "[17, 5, 2]\n"
     ]
    }
   ],
   "source": [
    "#Array Leaders\n",
    "def leaders(n, arr):\n",
    "        #Code here\n",
    "        \n",
    "        y=n-1\n",
    "        a=[]\n",
    "        for x in range(n-1,-1,-1):\n",
    "                \n",
    "            if arr[x]>=arr[y]:\n",
    "                a.insert(0,arr[x])\n",
    "                y=x\n",
    "                \n",
    "        return a\n",
    "x=leaders(6, [16,17,4,3,5,2])\n",
    "print(x)"
   ]
  },
  {
   "cell_type": "code",
   "execution_count": null,
   "id": "e23cff2c-1557-4c57-bcb7-fba564845e68",
   "metadata": {},
   "outputs": [],
   "source": []
  }
 ],
 "metadata": {
  "kernelspec": {
   "display_name": "Python 3 (ipykernel)",
   "language": "python",
   "name": "python3"
  },
  "language_info": {
   "codemirror_mode": {
    "name": "ipython",
    "version": 3
   },
   "file_extension": ".py",
   "mimetype": "text/x-python",
   "name": "python",
   "nbconvert_exporter": "python",
   "pygments_lexer": "ipython3",
   "version": "3.12.5"
  }
 },
 "nbformat": 4,
 "nbformat_minor": 5
}

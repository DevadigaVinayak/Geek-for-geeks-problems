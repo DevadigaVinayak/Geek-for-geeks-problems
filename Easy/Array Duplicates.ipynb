{
 "cells": [
  {
   "cell_type": "code",
   "execution_count": 5,
   "id": "a413029e-860d-4405-b5ea-fe57b6c8dfba",
   "metadata": {},
   "outputs": [
    {
     "data": {
      "text/plain": [
       "[2, 3]"
      ]
     },
     "execution_count": 5,
     "metadata": {},
     "output_type": "execute_result"
    }
   ],
   "source": [
    "#Array Duplicates\n",
    "def duplicates( n , arr ):\n",
    "    \n",
    "    # code here\n",
    "    a=[]\n",
    "    \n",
    "    if len(arr)==1:\n",
    "        return [-1]\n",
    "        \n",
    "    for x in range(n-1):\n",
    "        if arr[x] in arr[(x+1):]:\n",
    "            \n",
    "            if arr[x] not in a:\n",
    "                a.append(arr[x])\n",
    "            \n",
    "    if len(a)==0:\n",
    "        return [-1]\n",
    "        \n",
    "    return sorted(a)\n",
    "duplicates( 5,[2,3,1,2,3])"
   ]
  },
  {
   "cell_type": "code",
   "execution_count": null,
   "id": "bd2079e6-fe90-4ef5-963c-fda78d77b90b",
   "metadata": {},
   "outputs": [],
   "source": []
  }
 ],
 "metadata": {
  "kernelspec": {
   "display_name": "Python 3 (ipykernel)",
   "language": "python",
   "name": "python3"
  },
  "language_info": {
   "codemirror_mode": {
    "name": "ipython",
    "version": 3
   },
   "file_extension": ".py",
   "mimetype": "text/x-python",
   "name": "python",
   "nbconvert_exporter": "python",
   "pygments_lexer": "ipython3",
   "version": "3.12.5"
  }
 },
 "nbformat": 4,
 "nbformat_minor": 5
}

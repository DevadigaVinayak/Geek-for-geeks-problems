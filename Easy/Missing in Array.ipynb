{
 "cells": [
  {
   "cell_type": "code",
   "execution_count": 5,
   "id": "888fa2f7-f7ed-4584-8f0c-2321a0d2b78f",
   "metadata": {},
   "outputs": [
    {
     "name": "stdout",
     "output_type": "stream",
     "text": [
      "4\n"
     ]
    }
   ],
   "source": [
    "\n",
    "#Missing in Array\n",
    "'''\n",
    "Input: n = 5, arr[] = [1,2,3,5]\n",
    "Output: 4\n",
    "Explanation : All the numbers from 1 to 5 are present except 4.'''\n",
    "\n",
    "#Using Hsh array\n",
    "class Solution:\n",
    "    \n",
    "    # Note that the size of the array is n-1\n",
    "    def missingNumber(self, n, arr):\n",
    "        \n",
    "        # code here\n",
    "        hashArray = [0] * (n + 1)\n",
    "\n",
    "        # Store frequencies of elements\n",
    "        for x in arr:\n",
    "             hashArray[x]+= 1\n",
    "    \n",
    "        # Find the missing number\n",
    "        for i in range(1, n + 1):\n",
    "            if hashArray[i] == 0:\n",
    "                return i\n",
    "    \n",
    "        # Edge case handling (though problem guarantees a solution)\n",
    "        return -1\n",
    "\n",
    "s = Solution().missingNumber(5, [1,2,3,5])\n",
    "print(s)\n"
   ]
  },
  {
   "cell_type": "code",
   "execution_count": 3,
   "id": "607daaa3-a171-48b0-b3dd-4b20504eb060",
   "metadata": {},
   "outputs": [
    {
     "name": "stdout",
     "output_type": "stream",
     "text": [
      "4\n"
     ]
    }
   ],
   "source": [
    "#User function Template for python3\n",
    "class Solution:\n",
    "    \n",
    "    # Note that the size of the array is n-1\n",
    "    def missingNumber(self, n, arr):\n",
    "        \n",
    "        # code here\n",
    "        hashArray = [0] * (n + 1)\n",
    "\n",
    "        # Store frequencies of elements\n",
    "        for x in arr:\n",
    "             hashArray[x]+= 1\n",
    "    \n",
    "        # Find the missing number\n",
    "        for i in range(1, n + 1):\n",
    "            if hashArray[i] == 0:\n",
    "                return i\n",
    "    \n",
    "        \n",
    "        return -1\n",
    "\n",
    "s = Solution().missingNumber(5, [1,2,3,5])\n",
    "print(s)\n"
   ]
  },
  {
   "cell_type": "code",
   "execution_count": 4,
   "id": "9ac3b923-7ea4-47aa-8974-457cb2395abe",
   "metadata": {},
   "outputs": [
    {
     "name": "stdout",
     "output_type": "stream",
     "text": [
      "5\n"
     ]
    }
   ],
   "source": [
    "def missingNumber(self, n, arr):\n",
    "    # code here\n",
    "    x=1\n",
    "    ans=0\n",
    "    for i in range(n):\n",
    "        ans=x^arr[i]\n",
    "        \n",
    "    if ans>0:\n",
    "        return ans\n",
    "s = Solution().missingNumber(4, [1,2,3,4,7])\n",
    "print(s)\n"
   ]
  },
  {
   "cell_type": "code",
   "execution_count": null,
   "id": "fe429fb4-eed7-4b15-bc14-7af3a21a475c",
   "metadata": {},
   "outputs": [],
   "source": []
  }
 ],
 "metadata": {
  "kernelspec": {
   "display_name": "Python 3 (ipykernel)",
   "language": "python",
   "name": "python3"
  },
  "language_info": {
   "codemirror_mode": {
    "name": "ipython",
    "version": 3
   },
   "file_extension": ".py",
   "mimetype": "text/x-python",
   "name": "python",
   "nbconvert_exporter": "python",
   "pygments_lexer": "ipython3",
   "version": "3.12.5"
  }
 },
 "nbformat": 4,
 "nbformat_minor": 5
}

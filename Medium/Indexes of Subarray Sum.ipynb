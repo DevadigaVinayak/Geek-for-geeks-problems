{
 "cells": [
  {
   "cell_type": "code",
   "execution_count": 3,
   "id": "8034b23e-ae87-4f14-a0f5-b9a0db4d3b68",
   "metadata": {},
   "outputs": [
    {
     "name": "stdout",
     "output_type": "stream",
     "text": [
      "[2, 3, 7]\n"
     ]
    }
   ],
   "source": [
    "#Indexes of Subarray Sum\n",
    "'''\n",
    "Input: arr[] = [1,2,3,7,5], n = 5, s = 12\n",
    "Output: 2 4\n",
    "Explanation: The sum of elements from 2nd to 4th position is 12.\n",
    "'''\n",
    "\n",
    "arr= [1,2,3,7,5]\n",
    "n = 5\n",
    "s=12\n",
    "\n",
    "start=0\n",
    "end=0\n",
    "sum2=0\n",
    "while sum!=s:\n",
    "    sum2=sum(arr[start:end+1])\n",
    " \n",
    "    if sum2<s:\n",
    "        end+=1\n",
    "    if sum2>s:\n",
    "        start=start+1\n",
    "        sum2=0\n",
    "    if sum2==s:\n",
    "        break\n",
    "\n",
    "print(arr[start:end+1])"
   ]
  },
  {
   "cell_type": "code",
   "execution_count": 5,
   "id": "db3ef401-35ad-4310-a42f-f5e3a4096ced",
   "metadata": {},
   "outputs": [
    {
     "data": {
      "text/plain": [
       "(2, 4)"
      ]
     },
     "execution_count": 5,
     "metadata": {},
     "output_type": "execute_result"
    }
   ],
   "source": [
    "\n",
    "def subArraySum(arr, n, s):\n",
    "    start = 0\n",
    "    curr_sum = 0\n",
    "    \n",
    "    for end in range(n):\n",    
    "        curr_sum += arr[end]\n",
    "        \n",
    "        while curr_sum > s and start <= end:\n",
    "            curr_sum -= arr[start]\n",
    "            start += 1\n",
    "        \n",
    "        if curr_sum == s:\n",
    "            # Return the 1-based index\n",
    "            return (start + 1, end + 1)\n",
    "    \n",
    "    return (-1, -1)\n",
    "z=[1,2,3,7,5]\n",
    "subArraySum(z,5,12)"
   ]
  },
  {
   "cell_type": "code",
   "execution_count": null,
   "id": "c342e474-4cdf-4d23-9fa2-5cadaa06db9b",
   "metadata": {},
   "outputs": [],
   "source": []
  }
 ],
 "metadata": {
  "kernelspec": {
   "display_name": "Python 3 (ipykernel)",
   "language": "python",
   "name": "python3"
  },
  "language_info": {
   "codemirror_mode": {
    "name": "ipython",
    "version": 3
   },
   "file_extension": ".py",
   "mimetype": "text/x-python",
   "name": "python",
   "nbconvert_exporter": "python",
   "pygments_lexer": "ipython3",
   "version": "3.12.5"
  }
 },
 "nbformat": 4,
 "nbformat_minor": 5
}

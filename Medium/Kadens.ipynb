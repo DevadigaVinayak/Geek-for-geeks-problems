{
 "cells": [
  {
   "cell_type": "code",
   "execution_count": 10,
   "id": "9bcd91b8-ef4f-47f5-bc5d-ea862f8e1b53",
   "metadata": {},
   "outputs": [
    {
     "name": "stdout",
     "output_type": "stream",
     "text": [
      "9\n"
     ]
    }
   ],
   "source": [
    "def maxSubArraySum(arr):\n",
    "        maxsum=cursum = arr[0]\n",
    "        for x in range(1,len(arr)):\n",
    "            cursum=max(cursum+arr[x],arr[x]) \n",
    "            if cursum>maxsum:\n",
    "                maxsum=cursum       \n",
    "        return maxsum\n",
    "    \n",
    "x=maxSubArraySum([1 ,2 ,3 ,-2, 5])\n",
    "print(x)"
   ]
  },
  {
   "cell_type": "code",
   "execution_count": null,
   "id": "af2f19f1-d63a-47f4-8aa2-9a1a5c4e31b4",
   "metadata": {},
   "outputs": [],
   "source": []
  }
 ],
 "metadata": {
  "kernelspec": {
   "display_name": "Python 3 (ipykernel)",
   "language": "python",
   "name": "python3"
  },
  "language_info": {
   "codemirror_mode": {
    "name": "ipython",
    "version": 3
   },
   "file_extension": ".py",
   "mimetype": "text/x-python",
   "name": "python",
   "nbconvert_exporter": "python",
   "pygments_lexer": "ipython3",
   "version": "3.12.5"
  }
 },
 "nbformat": 4,
 "nbformat_minor": 5
}
